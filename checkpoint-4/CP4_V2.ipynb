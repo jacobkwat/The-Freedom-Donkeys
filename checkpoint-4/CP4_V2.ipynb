{
  "nbformat": 4,
  "nbformat_minor": 0,
  "metadata": {
    "colab": {
      "name": "CP4_V2.ipynb",
      "provenance": []
    },
    "kernelspec": {
      "name": "python3",
      "display_name": "Python 3"
    },
    "language_info": {
      "name": "python"
    }
  },
  "cells": [
    {
      "cell_type": "code",
      "metadata": {
        "colab": {
          "base_uri": "https://localhost:8080/"
        },
        "id": "7kNJKiQ4sKf9",
        "outputId": "d2464f2d-52d5-4a91-fb31-4dd69d063785"
      },
      "source": [
        "# install java\n",
        "!apt-get install openjdk-8-jdk-headless -qq > /dev/null\n",
        "\n",
        "# install spark (change the version number if needed)\n",
        "!wget -q https://archive.apache.org/dist/spark/spark-3.2.0/spark-3.2.0-bin-hadoop3.2.tgz\n",
        "\n",
        "# unzip the spark file to the current folder\n",
        "!tar xf spark-3.2.0-bin-hadoop3.2.tgz\n",
        "\n",
        "# set your spark folder to your system path environment. \n",
        "import os\n",
        "os.environ[\"JAVA_HOME\"] = \"/usr/lib/jvm/java-8-openjdk-amd64\"\n",
        "os.environ[\"SPARK_HOME\"] = \"/content/spark-3.2.0-bin-hadoop3.2\"\n",
        "\n",
        "# install findspark using pip\n",
        "!pip install -q findspark\n",
        "\n",
        "# install pyspark\n",
        "!pip3 install pyspark==3.2.0\n",
        "\n",
        "# install graphframes\n",
        "!pip3 install graphframes"
      ],
      "execution_count": 2,
      "outputs": [
        {
          "output_type": "stream",
          "name": "stdout",
          "text": [
            "Requirement already satisfied: pyspark==3.2.0 in /usr/local/lib/python3.7/dist-packages (3.2.0)\n",
            "Requirement already satisfied: py4j==0.10.9.2 in /usr/local/lib/python3.7/dist-packages (from pyspark==3.2.0) (0.10.9.2)\n",
            "Requirement already satisfied: graphframes in /usr/local/lib/python3.7/dist-packages (0.6)\n",
            "Requirement already satisfied: numpy in /usr/local/lib/python3.7/dist-packages (from graphframes) (1.19.5)\n",
            "Requirement already satisfied: nose in /usr/local/lib/python3.7/dist-packages (from graphframes) (1.3.7)\n"
          ]
        }
      ]
    },
    {
      "cell_type": "markdown",
      "metadata": {
        "id": "z6mGIbMjtt0x"
      },
      "source": [
        "Download the graphframes jar file from: [Graphframe](https://repos.spark-packages.org/graphframes/graphframes/0.8.2-spark3.2-s_2.12/graphframes-0.8.2-spark3.2-s_2.12.jar) jar file:\n",
        "\n",
        "Upload it in the Google Colab Files folder. Can be found in the left pane of this window."
      ]
    },
    {
      "cell_type": "code",
      "metadata": {
        "colab": {
          "base_uri": "https://localhost:8080/"
        },
        "id": "iU04q5X1swiB",
        "outputId": "332d8d54-7bbe-4621-a9c8-46eddeca43c9"
      },
      "source": [
        "!cp -v /content/graphframes-0.8.2-spark3.2-s_2.12.jar $SPARK_HOME/jars/"
      ],
      "execution_count": 3,
      "outputs": [
        {
          "output_type": "stream",
          "name": "stdout",
          "text": [
            "'/content/graphframes-0.8.2-spark3.2-s_2.12.jar' -> '/content/spark-3.2.0-bin-hadoop3.2/jars/graphframes-0.8.2-spark3.2-s_2.12.jar'\n"
          ]
        }
      ]
    },
    {
      "cell_type": "code",
      "metadata": {
        "id": "npNT2-2BtO16"
      },
      "source": [
        "#import the packages\n",
        "from pyspark import *\n",
        "from pyspark.sql import *\n",
        "from graphframes import *\n",
        "import pandas as pd\n",
        "\n",
        "# Start a Spark session\n",
        "spark = SparkSession.builder.master(\"local[*]\").getOrCreate()"
      ],
      "execution_count": 4,
      "outputs": []
    },
    {
      "cell_type": "code",
      "metadata": {
        "id": "y545H3RjuRd9"
      },
      "source": [
        "#data = spark.read.csv('/content/drive/MyDrive/DSS_CP4/civ_complaints.csv', header='true', inferSchema='true')"
      ],
      "execution_count": 39,
      "outputs": []
    },
    {
      "cell_type": "code",
      "metadata": {
        "id": "17AM4IQYV3xS"
      },
      "source": [
        "vertices_civ_complaint = spark.read.csv('/content/drive/MyDrive/DSS_CP4/officer_vertices_civ_complaint3.csv', header='true', inferSchema='true')"
      ],
      "execution_count": 5,
      "outputs": []
    },
    {
      "cell_type": "code",
      "metadata": {
        "id": "G6KmhVB-7O64"
      },
      "source": [
        "vertices_pol_complaint = spark.read.csv('/content/drive/MyDrive/DSS_CP4/officer_vertices_pol_complaint3.csv', header='true', inferSchema='true')"
      ],
      "execution_count": 53,
      "outputs": []
    },
    {
      "cell_type": "code",
      "metadata": {
        "id": "8XNyEdI34uJ8"
      },
      "source": [
        "#users = data.select(data['id']).distinct()"
      ],
      "execution_count": 40,
      "outputs": []
    },
    {
      "cell_type": "code",
      "metadata": {
        "id": "tUDqaC4O4xGc"
      },
      "source": [
        "edges_civ_complaint = spark.read.csv('/content/drive/MyDrive/DSS_CP4/civilian_edges.csv', header='true', inferSchema='true')"
      ],
      "execution_count": 6,
      "outputs": []
    },
    {
      "cell_type": "code",
      "metadata": {
        "id": "QrmZnmW18BJb"
      },
      "source": [
        "edges_pol_complaint = spark.read.csv('/content/drive/MyDrive/DSS_CP4/police_edges.csv', header='true', inferSchema='true')"
      ],
      "execution_count": 54,
      "outputs": []
    },
    {
      "cell_type": "code",
      "metadata": {
        "id": "hMbESgu15BrG"
      },
      "source": [
        "g_civ_complaint = GraphFrame(vertices_civ_complaint, edges_civ_complaint)"
      ],
      "execution_count": 7,
      "outputs": []
    },
    {
      "cell_type": "code",
      "metadata": {
        "id": "qOUjNJaE8JY3"
      },
      "source": [
        "g_pol_complaint = GraphFrame(vertices_pol_complaint, edges_pol_complaint)"
      ],
      "execution_count": 55,
      "outputs": []
    },
    {
      "cell_type": "markdown",
      "metadata": {
        "id": "FpptE7Yt8aYd"
      },
      "source": [
        "civilian complaint section"
      ]
    },
    {
      "cell_type": "code",
      "metadata": {
        "colab": {
          "base_uri": "https://localhost:8080/"
        },
        "id": "mV5TzfK85HCF",
        "outputId": "ff9d890b-1138-4f12-90f4-737fa3f24be9"
      },
      "source": [
        "g_civ_complaint.vertices.show()"
      ],
      "execution_count": 8,
      "outputs": [
        {
          "output_type": "stream",
          "name": "stdout",
          "text": [
            "+---+-------+--------------------+-----------+------+--------+--------------------+--------------+----------------+----------------+-----------------------+-----------------+-------------------------+\n",
            "| id|   crid|is_officer_complaint|disciplined|gender|    race|                rank|current_salary|allegation_count|discipline_count|honorable_mention_count|major_award_count|civilian_compliment_count|\n",
            "+---+-------+--------------------+-----------+------+--------+--------------------+--------------+----------------+----------------+-----------------------+-----------------+-------------------------+\n",
            "|  5|C185794|               false|       true|     M|   White|  Sergeant of Police|          null|               4|               1|                      2|                0|                        2|\n",
            "|  9|C174984|               false|       true|     M|   Black|      Police Officer|          null|               3|               1|                      0|                0|                        0|\n",
            "| 11|C194944|               false|       true|     F|   White|Police Officer as...|         73476|               7|               1|                      0|                0|                        0|\n",
            "| 12|C210132|               false|       true|     M|   White|Police Officer as...|          null|               7|               1|                      0|                0|                        0|\n",
            "| 13|C204385|               false|       true|     M|   White|      Police Officer|         85278|              10|               1|                      3|                0|                        2|\n",
            "| 21|C197405|               false|       true|     F|   White|      Police Officer|          null|              16|               7|                      0|                0|                        0|\n",
            "| 29|C244836|               false|       true|     M|   Black|      Police Officer|         93240|               6|               3|                      5|                0|                        7|\n",
            "| 33|C194920|               false|       true|     M|Hispanic|Police Officer as...|         74946|              15|               1|                      0|                0|                        0|\n",
            "| 43|C201490|               false|       true|     M|   White|      Police Officer|          null|               1|               1|                      0|                0|                        0|\n",
            "| 45|C229071|               false|       true|     M|Hispanic|      Police Officer|          null|               2|               1|                      2|                0|                        0|\n",
            "| 48|C241037|               false|       true|     F|Hispanic|      Police Officer|         93240|               9|               1|                      9|                0|                        9|\n",
            "| 54|C245718|               false|       true|     M|Hispanic|      Police Officer|         92430|              13|               2|                      7|                0|                        1|\n",
            "| 56|1054598|               false|       true|     M|Hispanic|Police Officer as...|         84054|              10|               1|                     42|                0|                        2|\n",
            "| 58| 259677|               false|       true|     M|Hispanic|      Police Officer|         64926|              36|               9|                     12|                1|                        0|\n",
            "| 70|C194839|               false|       true|     M|Hispanic|           Commander|        121728|               8|               1|                      0|                0|                        0|\n",
            "| 71|C203832|               false|       true|     F|   White|Police Officer (P...|         79632|               1|               1|                      1|                0|                        0|\n",
            "| 78|C249606|               false|       true|     M|Hispanic|  Sergeant of Police|          null|               8|               1|                      9|                1|                        3|\n",
            "| 79|C182480|               false|       true|     M|   Black|      Police Officer|          null|               4|               2|                      1|                0|                        0|\n",
            "| 80|1048041|               false|       true|     M|Hispanic|      Police Officer|         84054|               9|               3|                     10|                0|                        4|\n",
            "| 90| 293504|               false|       true|     M|   Black|      Police Officer|         76476|              25|               3|                      0|                1|                        0|\n",
            "+---+-------+--------------------+-----------+------+--------+--------------------+--------------+----------------+----------------+-----------------------+-----------------+-------------------------+\n",
            "only showing top 20 rows\n",
            "\n"
          ]
        }
      ]
    },
    {
      "cell_type": "code",
      "metadata": {
        "colab": {
          "base_uri": "https://localhost:8080/"
        },
        "id": "WO0HqkyR5K1V",
        "outputId": "9a12d609-12b4-4033-fbf9-c696b9c53fe6"
      },
      "source": [
        "g_civ_complaint.edges.show()"
      ],
      "execution_count": 9,
      "outputs": [
        {
          "output_type": "stream",
          "name": "stdout",
          "text": [
            "+-----+-----+------------+\n",
            "|  src|  dst|relationship|\n",
            "+-----+-----+------------+\n",
            "| 8683|24267|     1000009|\n",
            "| 8683|31234|     1000009|\n",
            "|24267| 8683|     1000009|\n",
            "|24267|31234|     1000009|\n",
            "|31234| 8683|     1000009|\n",
            "|31234|24267|     1000009|\n",
            "|  230| 9621|     1000199|\n",
            "| 9621|  230|     1000199|\n",
            "| 2295|16112|     1000214|\n",
            "| 2295|19834|     1000214|\n",
            "| 2295|25914|     1000214|\n",
            "| 2295|28529|     1000214|\n",
            "|16112| 2295|     1000214|\n",
            "|16112|19834|     1000214|\n",
            "|16112|25914|     1000214|\n",
            "|16112|28529|     1000214|\n",
            "|19834| 2295|     1000214|\n",
            "|19834|16112|     1000214|\n",
            "|19834|25914|     1000214|\n",
            "|19834|28529|     1000214|\n",
            "+-----+-----+------------+\n",
            "only showing top 20 rows\n",
            "\n"
          ]
        }
      ]
    },
    {
      "cell_type": "code",
      "metadata": {
        "colab": {
          "base_uri": "https://localhost:8080/"
        },
        "id": "YiU940Y_7Whx",
        "outputId": "8aaf2587-c74d-470f-ad16-2592b020b4dd"
      },
      "source": [
        "g_civ_complaint.vertices.count()"
      ],
      "execution_count": 10,
      "outputs": [
        {
          "output_type": "execute_result",
          "data": {
            "text/plain": [
              "7739"
            ]
          },
          "metadata": {},
          "execution_count": 10
        }
      ]
    },
    {
      "cell_type": "code",
      "metadata": {
        "colab": {
          "base_uri": "https://localhost:8080/"
        },
        "id": "Vouyoyf67Z_e",
        "outputId": "c78062a8-bf3a-4f92-b0c8-86298ee84deb"
      },
      "source": [
        "g_civ_complaint.edges.count()"
      ],
      "execution_count": 11,
      "outputs": [
        {
          "output_type": "execute_result",
          "data": {
            "text/plain": [
              "27842"
            ]
          },
          "metadata": {},
          "execution_count": 11
        }
      ]
    },
    {
      "cell_type": "code",
      "metadata": {
        "colab": {
          "base_uri": "https://localhost:8080/"
        },
        "id": "O8Uh4cei8Gwy",
        "outputId": "b02314fe-871a-475d-bee5-30d7b30f9b54"
      },
      "source": [
        "g_civ_complaint.inDegrees.sort(['inDegree'],ascending=[0]).show()"
      ],
      "execution_count": 48,
      "outputs": [
        {
          "output_type": "stream",
          "name": "stdout",
          "text": [
            "+-----+--------+\n",
            "|   id|inDegree|\n",
            "+-----+--------+\n",
            "|12788|     134|\n",
            "|12893|     126|\n",
            "| 6387|     117|\n",
            "|31756|     116|\n",
            "|30111|     114|\n",
            "| 5667|     113|\n",
            "|22304|     112|\n",
            "|29590|     112|\n",
            "| 2978|     112|\n",
            "| 6857|     112|\n",
            "|18042|     112|\n",
            "|20713|     111|\n",
            "| 9555|     111|\n",
            "|11589|     110|\n",
            "|26851|     110|\n",
            "| 7892|     110|\n",
            "|23534|     110|\n",
            "|  923|     110|\n",
            "| 6260|     110|\n",
            "|17938|     109|\n",
            "+-----+--------+\n",
            "only showing top 20 rows\n",
            "\n"
          ]
        }
      ]
    },
    {
      "cell_type": "code",
      "metadata": {
        "colab": {
          "base_uri": "https://localhost:8080/"
        },
        "id": "88pLIBJU8Q0t",
        "outputId": "1975765e-d89f-4183-f724-480760ec1285"
      },
      "source": [
        "g_civ_complaint.outDegrees.sort(['outDegree'],ascending=[0]).show()"
      ],
      "execution_count": 49,
      "outputs": [
        {
          "output_type": "stream",
          "name": "stdout",
          "text": [
            "+-----+---------+\n",
            "|   id|outDegree|\n",
            "+-----+---------+\n",
            "|12788|      134|\n",
            "|12893|      126|\n",
            "| 6387|      117|\n",
            "|31756|      116|\n",
            "|30111|      114|\n",
            "| 5667|      113|\n",
            "|22304|      112|\n",
            "|29590|      112|\n",
            "| 2978|      112|\n",
            "| 6857|      112|\n",
            "|18042|      112|\n",
            "|20713|      111|\n",
            "| 9555|      111|\n",
            "|11589|      110|\n",
            "|26851|      110|\n",
            "| 7892|      110|\n",
            "|23534|      110|\n",
            "|  923|      110|\n",
            "| 6260|      110|\n",
            "|17938|      109|\n",
            "+-----+---------+\n",
            "only showing top 20 rows\n",
            "\n"
          ]
        }
      ]
    },
    {
      "cell_type": "code",
      "metadata": {
        "id": "FTJZDtja8yqK",
        "colab": {
          "base_uri": "https://localhost:8080/"
        },
        "outputId": "284a30ef-572b-4422-81b1-a67906df6962"
      },
      "source": [
        "g_civ_complaint.degrees.sort(['Degree'],ascending=[0]).show()"
      ],
      "execution_count": 50,
      "outputs": [
        {
          "output_type": "stream",
          "name": "stdout",
          "text": [
            "+-----+------+\n",
            "|   id|degree|\n",
            "+-----+------+\n",
            "|12788|   268|\n",
            "|12893|   252|\n",
            "| 6387|   234|\n",
            "|31756|   232|\n",
            "|30111|   228|\n",
            "| 5667|   226|\n",
            "|22304|   224|\n",
            "|29590|   224|\n",
            "| 2978|   224|\n",
            "| 6857|   224|\n",
            "|18042|   224|\n",
            "|20713|   222|\n",
            "| 9555|   222|\n",
            "|11589|   220|\n",
            "|26851|   220|\n",
            "| 7892|   220|\n",
            "|23534|   220|\n",
            "|  923|   220|\n",
            "| 6260|   220|\n",
            "|17938|   218|\n",
            "+-----+------+\n",
            "only showing top 20 rows\n",
            "\n"
          ]
        }
      ]
    },
    {
      "cell_type": "code",
      "metadata": {
        "id": "ArjCL8NQ5Reg"
      },
      "source": [
        "import networkx as nx\n",
        "\n",
        "def plot_graph(gx):\n",
        "    g = nx.DiGraph(directed = False)\n",
        "    \n",
        "    g = nx.from_pandas_edgelist(gx.edges.toPandas(),'src','dst')\n",
        "    g.add_nodes_from(gx.vertices.toPandas()['id'])\n",
        "\n",
        "    nx.draw(g, with_labels=True, arrows = True, node_color='grey')"
      ],
      "execution_count": 48,
      "outputs": []
    },
    {
      "cell_type": "code",
      "metadata": {
        "id": "Ih5xSKAdn1zF"
      },
      "source": [
        "communities_civ_complaint = g_civ_complaint.labelPropagation(100)"
      ],
      "execution_count": 12,
      "outputs": []
    },
    {
      "cell_type": "code",
      "metadata": {
        "colab": {
          "base_uri": "https://localhost:8080/"
        },
        "id": "rqHSRQg-lE-a",
        "outputId": "000a7aba-8e9c-45ed-cd4b-2403d1f459ca"
      },
      "source": [
        "communities_civ_complaint.select(\"label\").distinct().count()"
      ],
      "execution_count": 13,
      "outputs": [
        {
          "output_type": "execute_result",
          "data": {
            "text/plain": [
              "6080"
            ]
          },
          "metadata": {},
          "execution_count": 13
        }
      ]
    },
    {
      "cell_type": "code",
      "metadata": {
        "colab": {
          "base_uri": "https://localhost:8080/"
        },
        "id": "ZNvH7eflqVd6",
        "outputId": "47d31c0f-5dcc-43e3-e9d6-977c8cd2952f"
      },
      "source": [
        "communities_civ_complaint.groupby(\"label\").count().sort(\"count\", ascending=False).show(40)"
      ],
      "execution_count": 15,
      "outputs": [
        {
          "output_type": "stream",
          "name": "stdout",
          "text": [
            "+-----+-----+\n",
            "|label|count|\n",
            "+-----+-----+\n",
            "| 6534|  176|\n",
            "|19929|  112|\n",
            "|14519|   48|\n",
            "|29071|   22|\n",
            "|30294|   19|\n",
            "|28273|   15|\n",
            "|   92|   15|\n",
            "| 2400|   14|\n",
            "|25351|   14|\n",
            "|21876|   13|\n",
            "|15093|   12|\n",
            "|22480|   12|\n",
            "| 8026|   12|\n",
            "|12177|   11|\n",
            "|13317|   11|\n",
            "| 3851|   11|\n",
            "| 2388|   11|\n",
            "| 2568|   10|\n",
            "|12243|   10|\n",
            "|20111|   10|\n",
            "|11633|    9|\n",
            "|13179|    9|\n",
            "|14106|    9|\n",
            "| 2084|    9|\n",
            "|18508|    9|\n",
            "|28721|    9|\n",
            "|23051|    8|\n",
            "|11543|    8|\n",
            "| 2326|    8|\n",
            "| 4013|    8|\n",
            "| 1205|    8|\n",
            "|12757|    8|\n",
            "|14860|    8|\n",
            "|21777|    8|\n",
            "| 5077|    8|\n",
            "| 2137|    7|\n",
            "|11693|    7|\n",
            "|22432|    7|\n",
            "|17285|    7|\n",
            "| 9309|    7|\n",
            "+-----+-----+\n",
            "only showing top 40 rows\n",
            "\n"
          ]
        }
      ]
    },
    {
      "cell_type": "code",
      "metadata": {
        "id": "92Cy7xGQlTwU"
      },
      "source": [
        "tc_civ_complaint = g_civ_complaint.triangleCount()"
      ],
      "execution_count": 16,
      "outputs": []
    },
    {
      "cell_type": "code",
      "metadata": {
        "colab": {
          "base_uri": "https://localhost:8080/"
        },
        "id": "frMSHYFsrXme",
        "outputId": "9e90cc3e-381f-4d27-9d0f-6db6af740196"
      },
      "source": [
        "tc_civ_complaint.sort(\"count\", ascending=False).show(40)"
      ],
      "execution_count": 20,
      "outputs": [
        {
          "output_type": "stream",
          "name": "stdout",
          "text": [
            "+-----+-----+-------+--------------------+-----------+------+--------+--------------------+--------------+----------------+----------------+-----------------------+-----------------+-------------------------+\n",
            "|count|   id|   crid|is_officer_complaint|disciplined|gender|    race|                rank|current_salary|allegation_count|discipline_count|honorable_mention_count|major_award_count|civilian_compliment_count|\n",
            "+-----+-----+-------+--------------------+-----------+------+--------+--------------------+--------------+----------------+----------------+-----------------------+-----------------+-------------------------+\n",
            "| 5996|12788|C230673|               false|       true|     M|   Black|      Police Officer|         69264|              36|               6|                      8|                0|                        0|\n",
            "| 5842|12893|C149209|               false|       true|     M|   White|      Police Officer|         95106|               5|               2|                      3|                0|                        4|\n",
            "| 5716| 6387|C215470|               false|       true|     M|   Black|      Police Officer|          null|              11|               2|                      2|                0|                        0|\n",
            "| 5681| 6857|C220046|               false|       true|     M|Hispanic|      Police Officer|          null|               4|               2|                     10|                0|                        0|\n",
            "| 5681| 2978|C246359|               false|       true|     M|   Black|      Police Officer|          null|              16|               5|                      2|                0|                        1|\n",
            "| 5677| 5667|C200257|               false|       true|     M|   Black|      Police Officer|          null|              30|               7|                      0|                0|                        0|\n",
            "| 5677|29590|C202379|               false|       true|     M|Hispanic|Police Officer as...|        103932|              19|               8|                      5|                0|                        4|\n",
            "| 5677|20713|C209186|               false|       true|     M|   Black|      Police Officer|         83604|              74|               3|                      9|                0|                        2|\n",
            "| 5677|31756|C240965|               false|       true|     M|Hispanic|      Police Officer|         86130|              53|              21|                      3|                0|                        3|\n",
            "| 5677|22304|C165039|               false|       true|     M|   Black|      Police Officer|          null|              15|               4|                      1|                0|                        0|\n",
            "| 5674| 7892|C220046|               false|       true|     M|   Black|  Sergeant of Police|         99756|               5|               2|                      3|                0|                        1|\n",
            "| 5674|30111|C193382|               false|       true|     M|   Black|Police Officer / ...|         97044|              57|              16|                     15|                0|                        4|\n",
            "| 5674|11589|C212143|               false|       true|     M|   Black|      Police Officer|         67326|              20|               6|                      0|                0|                        0|\n",
            "| 5674| 6260|C220046|               false|       true|     M|   Black|      Police Officer|         69264|              49|              11|                      6|                0|                        1|\n",
            "| 5672|26851|C220046|               false|       true|     M|   Black|      Police Officer|          null|              15|               4|                      8|                0|                        0|\n",
            "| 5672|18042|C224116|               false|       true|     M|   Black|      Police Officer|          null|              22|              10|                      3|                0|                        0|\n",
            "| 5672|22231|C220046|               false|       true|     M|Hispanic|  Sergeant of Police|        107988|              39|               3|                     20|                0|                        7|\n",
            "| 5672|  923|C159184|               false|       true|     M|Hispanic|      Police Officer|         69264|              13|               6|                      1|                0|                        0|\n",
            "| 5671|19382|C220046|               false|       true|     F|   White|      Police Officer|         79926|              15|               4|                     11|                0|                        4|\n",
            "| 5671|11368|C237895|               false|       true|     M|   Black|      Police Officer|          null|              17|               5|                      1|                0|                        0|\n",
            "| 5671| 8655|C228312|               false|       true|     M|   Black|Police Officer as...|         87888|              18|               3|                      2|                0|                        2|\n",
            "| 5671|25885|C223498|               false|       true|     M|   Black|      Police Officer|         86130|              62|               4|                     23|                0|                        6|\n",
            "| 5671| 3750|C192603|               false|       true|     M|   Black|      Police Officer|          null|               8|               4|                      0|                0|                        0|\n",
            "| 5671| 2150|C227803|               false|       true|     M|   Black|      Police Officer|         70278|              10|               3|                      1|                0|                        0|\n",
            "| 5671| 5756|C220046|               false|       true|     M|   Black|      Police Officer|         85278|              40|               4|                     16|                0|                        4|\n",
            "| 5671|11047|C220046|               false|       true|     M|Hispanic|Police Officer As...|          null|               1|               1|                      0|                0|                        0|\n",
            "| 5671|13794|C220046|               false|       true|     M|   Black|      Police Officer|          null|               8|               1|                      3|                0|                        2|\n",
            "| 5671|19318|C220046|               false|       true|     M|   White|Police Officer as...|        103932|              10|               2|                      3|                0|                        1|\n",
            "| 5671|26774|C220046|               false|       true|     M|   Black|      Police Officer|         96060|              16|               1|                     74|                0|                        5|\n",
            "| 5671|21442|C220046|               false|       true|     M|Hispanic|      Police Officer|         64926|               9|               2|                      2|                0|                        0|\n",
            "| 5671|27708|C220046|               false|       true|     F|   Black|      Police Officer|         86130|               2|               1|                      4|                0|                        1|\n",
            "| 5671|32192|C220046|               false|       true|     M|   Black|      Police Officer|         96060|              16|               3|                     38|                0|                        4|\n",
            "| 5671|10556|C227414|               false|       true|     M|   White|      Police Officer|          null|              16|               5|                      5|                0|                        6|\n",
            "| 5671|13108| 262885|               false|       true|     M|   Black|      Police Officer|         80724|              23|               2|                      8|                0|                        1|\n",
            "| 5671| 1956|C237812|               false|       true|     M|   White|  Sergeant of Police|          null|              18|               3|                      0|                0|                        0|\n",
            "| 5671|13732|C229332|               false|       true|     M|   Black|      Police Officer|         64926|              26|               6|                      1|                0|                        0|\n",
            "| 5671|10986|C196950|               false|       true|     M|   White|      Police Officer|          null|               6|               2|                      0|                0|                        0|\n",
            "| 5671| 9576|C199032|               false|       true|     M|Hispanic|      Police Officer|         86130|              22|               2|                     14|                1|                        1|\n",
            "| 5671|27349|C185834|               false|       true|     M|   Black|      Police Officer|         89142|              11|               2|                      2|                0|                        0|\n",
            "| 5671| 1654|C220046|               false|       true|     M|Hispanic|      Police Officer|         86130|              18|               1|                      0|                0|                        1|\n",
            "+-----+-----+-------+--------------------+-----------+------+--------+--------------------+--------------+----------------+----------------+-----------------------+-----------------+-------------------------+\n",
            "only showing top 40 rows\n",
            "\n"
          ]
        }
      ]
    },
    {
      "cell_type": "code",
      "metadata": {
        "id": "zz1iSCaDrqe2"
      },
      "source": [
        "scc_civ_complaint = g_civ_complaint.stronglyConnectedComponents(100)"
      ],
      "execution_count": 36,
      "outputs": []
    },
    {
      "cell_type": "code",
      "metadata": {
        "colab": {
          "base_uri": "https://localhost:8080/"
        },
        "id": "uluwo5s7xX-f",
        "outputId": "64a740b4-45cd-4d47-e775-f2de42622d62"
      },
      "source": [
        "scc_civ_complaint.show()"
      ],
      "execution_count": 37,
      "outputs": [
        {
          "output_type": "stream",
          "name": "stdout",
          "text": [
            "+-----+-------+--------------------+-----------+------+--------------------+------------------+--------------+----------------+----------------+-----------------------+-----------------+-------------------------+---------+\n",
            "|   id|   crid|is_officer_complaint|disciplined|gender|                race|              rank|current_salary|allegation_count|discipline_count|honorable_mention_count|major_award_count|civilian_compliment_count|component|\n",
            "+-----+-------+--------------------+-----------+------+--------------------+------------------+--------------+----------------+----------------+-----------------------+-----------------+-------------------------+---------+\n",
            "|31760|1010643|               false|       true|     M|            Hispanic|    Police Officer|         90024|              23|               2|                     38|                1|                        1|    31760|\n",
            "|13871|C224163|               false|       true|     M|               White|    Police Officer|         80736|               8|               2|                     10|                0|                        0|    12313|\n",
            "| 9215|C182480|               false|       true|     M|               White|    Police Officer|          null|               9|               1|                      2|                0|                        1|       29|\n",
            "|18500|C195604|               false|       true|     F|               White|    Police Officer|         82878|              23|               1|                     10|                0|                        1|    18500|\n",
            "|23556| 277845|               false|       true|     M|       Asian/Pacific|    Police Officer|         90024|               7|               3|                      3|                0|                        4|    23556|\n",
            "|14882| 268918|               false|       true|     M|               Black|    Police Officer|         96060|              35|               5|                     11|                1|                        4|       29|\n",
            "|29290|C198231|               false|       true|     M|               White|Sergeant of Police|        111474|              18|               1|                      2|                0|                        4|    29290|\n",
            "|17241|C126146|               false|       true|     M|               White|    Police Officer|          null|               1|               1|                      0|                0|                        0|    17241|\n",
            "|29127|C269949|               false|       true|     M|               White|    Police Officer|          null|               3|               2|                      0|                0|                        0|    29127|\n",
            "| 5618|C232738|               false|       true|     M|Native American/A...|Sergeant of Police|          null|              44|               1|                      1|                0|                        0|     5618|\n",
            "|31291|C242385|               false|       true|     M|               White|Sergeant of Police|         99960|              11|               2|                      2|                0|                        2|    31291|\n",
            "| 4926|C233594|               false|       true|     M|               White|Sergeant of Police|         80022|              29|               3|                     12|                1|                        0|     4926|\n",
            "|15594|C208369|               false|       true|     M|               White|    Police Officer|          null|               6|               1|                      2|                0|                        1|    15594|\n",
            "| 5384|1088340|               false|       true|     M|               White|    Police Officer|         90024|              10|               1|                     50|                0|                        7|     5384|\n",
            "|11852|C136150|               false|       true|     M|               White|Sergeant of Police|          null|               1|               1|                      0|                0|                        0|     2107|\n",
            "|15149| 262335|               false|       true|     M|               White|Sergeant of Police|          null|               4|               1|                      0|                0|                        4|    15149|\n",
            "|15432|C222786|               false|       true|     M|               White|Sergeant of Police|        107988|              14|               1|                     45|                0|                        2|    15432|\n",
            "| 8390| 286953|               false|       true|     F|               White|    Police Officer|         66924|               3|               1|                      1|                0|                        1|     7835|\n",
            "|12959| 267014|               false|       true|     M|               Black|    Police Officer|         89130|              11|               2|                     14|                0|                        1|    10007|\n",
            "|10837|C212636|               false|       true|     M|               Black|    Police Officer|         69264|               3|               1|                      0|                0|                        0|    10837|\n",
            "+-----+-------+--------------------+-----------+------+--------------------+------------------+--------------+----------------+----------------+-----------------------+-----------------+-------------------------+---------+\n",
            "only showing top 20 rows\n",
            "\n"
          ]
        }
      ]
    },
    {
      "cell_type": "code",
      "metadata": {
        "colab": {
          "base_uri": "https://localhost:8080/"
        },
        "id": "xugLcMMWxbkf",
        "outputId": "9bf203e1-c1c9-463c-f1de-93c3e042f3db"
      },
      "source": [
        "scc_civ_complaint.select(\"component\").distinct().count()"
      ],
      "execution_count": 42,
      "outputs": [
        {
          "output_type": "execute_result",
          "data": {
            "text/plain": [
              "5097"
            ]
          },
          "metadata": {},
          "execution_count": 42
        }
      ]
    },
    {
      "cell_type": "code",
      "metadata": {
        "id": "MovJ8SLaxqMt"
      },
      "source": [
        "scc_civ_complaint_group_by = scc_civ_complaint.groupby(\"component\").count().sort(\"count\", ascending=False)"
      ],
      "execution_count": 39,
      "outputs": []
    },
    {
      "cell_type": "code",
      "metadata": {
        "colab": {
          "base_uri": "https://localhost:8080/"
        },
        "id": "_lvpVeAbyXir",
        "outputId": "888b8aac-aba1-4d0b-a982-32021b27a152"
      },
      "source": [
        "scc_civ_complaint_group_by.show(40)"
      ],
      "execution_count": 40,
      "outputs": [
        {
          "output_type": "stream",
          "name": "stdout",
          "text": [
            "+---------+-----+\n",
            "|component|count|\n",
            "+---------+-----+\n",
            "|       29|  640|\n",
            "|      110|   20|\n",
            "|     2400|   18|\n",
            "|     1097|   18|\n",
            "|      933|   17|\n",
            "|     3447|   17|\n",
            "|     1672|   16|\n",
            "|     2979|   14|\n",
            "|     2028|   13|\n",
            "|    12176|   13|\n",
            "|     1063|   13|\n",
            "|     3039|   12|\n",
            "|      404|   11|\n",
            "|      890|   11|\n",
            "|     2526|   11|\n",
            "|     3851|   11|\n",
            "|     8348|   10|\n",
            "|     4995|   10|\n",
            "|     5367|   10|\n",
            "|     2295|   10|\n",
            "|     6249|   10|\n",
            "|     7568|   10|\n",
            "|      186|    9|\n",
            "|     2084|    9|\n",
            "|     6138|    9|\n",
            "|      745|    9|\n",
            "|    10131|    8|\n",
            "|     6259|    8|\n",
            "|     2216|    8|\n",
            "|     8684|    8|\n",
            "|     4599|    8|\n",
            "|     2326|    8|\n",
            "|     2000|    8|\n",
            "|     4680|    8|\n",
            "|     2572|    8|\n",
            "|     6102|    8|\n",
            "|     3252|    7|\n",
            "|     5766|    7|\n",
            "|     1598|    7|\n",
            "|     5079|    7|\n",
            "+---------+-----+\n",
            "only showing top 40 rows\n",
            "\n"
          ]
        }
      ]
    },
    {
      "cell_type": "code",
      "metadata": {
        "colab": {
          "base_uri": "https://localhost:8080/"
        },
        "id": "HikYYXTYx2dD",
        "outputId": "6a324e29-d06c-4717-fcf2-58486a7c863c"
      },
      "source": [
        "scc_civ_complaint_group_by.tail(10)"
      ],
      "execution_count": 28,
      "outputs": [
        {
          "output_type": "execute_result",
          "data": {
            "text/plain": [
              "[Row(component=9894, count=1),\n",
              " Row(component=12291, count=1),\n",
              " Row(component=25882, count=1),\n",
              " Row(component=15012, count=1),\n",
              " Row(component=14340, count=1),\n",
              " Row(component=2800, count=1),\n",
              " Row(component=32423, count=1),\n",
              " Row(component=15130, count=1),\n",
              " Row(component=12554, count=1),\n",
              " Row(component=14850, count=1)]"
            ]
          },
          "metadata": {},
          "execution_count": 28
        }
      ]
    },
    {
      "cell_type": "code",
      "metadata": {
        "colab": {
          "base_uri": "https://localhost:8080/"
        },
        "id": "qTU7uHnTyAyu",
        "outputId": "cd124736-21c0-4d76-e4c8-cffd0516e45a"
      },
      "source": [
        "scc_civ_complaint_comp_110 = scc_civ_complaint.filter(scc_civ_complaint[\"component\"] == 110)\n",
        "scc_civ_complaint_comp_110.show()"
      ],
      "execution_count": 47,
      "outputs": [
        {
          "output_type": "stream",
          "name": "stdout",
          "text": [
            "+-----+-------+--------------------+-----------+------+-------------+--------------------+--------------+----------------+----------------+-----------------------+-----------------+-------------------------+---------+\n",
            "|   id|   crid|is_officer_complaint|disciplined|gender|         race|                rank|current_salary|allegation_count|discipline_count|honorable_mention_count|major_award_count|civilian_compliment_count|component|\n",
            "+-----+-------+--------------------+-----------+------+-------------+--------------------+--------------+----------------+----------------+-----------------------+-----------------+-------------------------+---------+\n",
            "|12109|1045959|               false|       true|     M|        White|      Police Officer|         90024|              56|               6|                     20|                0|                        6|      110|\n",
            "|15465|C247820|               false|       true|     M|        White|   Captain of Police|        136170|              23|               4|                      4|                0|                       12|      110|\n",
            "| 4013|C244088|               false|       true|     M|        White|Police Officer as...|        100980|              37|               3|                     38|                0|                        7|      110|\n",
            "|30758|C216030|               false|       true|     M|        White|      Police Officer|          null|               6|               1|                      2|                0|                        0|      110|\n",
            "| 8640|1043419|               false|       true|     M|        White|      Police Officer|         90024|              33|               3|                     58|                0|                        6|      110|\n",
            "|10351|C185384|               false|       true|     M|     Hispanic|      Police Officer|         85278|              50|               8|                     24|                0|                        0|      110|\n",
            "|29384| 275732|               false|       true|     M|Asian/Pacific|  Sergeant of Police|        104628|              26|               3|                     19|                0|                        4|      110|\n",
            "| 4017| 296045|               false|       true|     M|        White|Police Officer as...|         97440|              32|               1|                     44|                0|                        4|      110|\n",
            "|10401|C202028|               false|       true|     F|        Black|Police Officer as...|         84402|               7|               1|                      1|                0|                       20|      110|\n",
            "|10742|C203549|               false|       true|     M|        Black|      Police Officer|          null|              12|               4|                      0|                0|                        0|      110|\n",
            "|12619|C179580|               false|       true|     M|        Black|      Police Officer|          null|               4|               2|                      2|                0|                        0|      110|\n",
            "|15022|C219830|               false|       true|     M|        White|  Sergeant of Police|          null|              10|               8|                      5|                0|                        2|      110|\n",
            "|20518|C247284|               false|       true|     F|        White|Police Officer / ...|        100980|              21|               3|                      5|                0|                        5|      110|\n",
            "|21912|C221873|               false|       true|     M|        White|      Police Officer|         96060|              43|               3|                     26|                0|                        5|      110|\n",
            "| 5051|C216030|               false|       true|     M|        Black|      Police Officer|          null|               4|               1|                      2|                0|                        0|      110|\n",
            "| 2721|C241497|               false|       true|     M|        White|Police Officer as...|        100980|              15|               2|                      1|                0|                        3|      110|\n",
            "|11586|C241942|               false|       true|     M|        White|   Captain of Police|          null|              11|               2|                      4|                0|                        0|      110|\n",
            "|28965|C203549|               false|       true|     F|        Black|      Police Officer|         86130|               7|               5|                      0|                0|                        1|      110|\n",
            "|19663|C247284|               false|       true|     F|     Hispanic|      Police Officer|         93354|              15|               2|                     24|                0|                        8|      110|\n",
            "|  110|C216030|               false|       true|     M|        Black|      Police Officer|          null|               8|               4|                      0|                0|                        0|      110|\n",
            "+-----+-------+--------------------+-----------+------+-------------+--------------------+--------------+----------------+----------------+-----------------------+-----------------+-------------------------+---------+\n",
            "\n"
          ]
        }
      ]
    },
    {
      "cell_type": "code",
      "metadata": {
        "id": "C8e8W336338i"
      },
      "source": [
        "g_scc_civ_complaint_110 = GraphFrame(scc_civ_complaint_comp_110, edges_civ_complaint)"
      ],
      "execution_count": 49,
      "outputs": []
    },
    {
      "cell_type": "code",
      "metadata": {
        "colab": {
          "base_uri": "https://localhost:8080/"
        },
        "id": "pWMmDXYJ4J1u",
        "outputId": "2ab33cbf-eb4a-4c8f-8499-aa46a5823967"
      },
      "source": [
        "g_scc_civ_complaint_110.vertices.count()"
      ],
      "execution_count": 50,
      "outputs": [
        {
          "output_type": "execute_result",
          "data": {
            "text/plain": [
              "20"
            ]
          },
          "metadata": {},
          "execution_count": 50
        }
      ]
    },
    {
      "cell_type": "code",
      "metadata": {
        "colab": {
          "base_uri": "https://localhost:8080/"
        },
        "id": "B1f8iIbd4NTy",
        "outputId": "598eafda-da95-46bb-df65-dc0ce9fc0d24"
      },
      "source": [
        "g_scc_civ_complaint_110.edges.count()"
      ],
      "execution_count": 51,
      "outputs": [
        {
          "output_type": "execute_result",
          "data": {
            "text/plain": [
              "27842"
            ]
          },
          "metadata": {},
          "execution_count": 51
        }
      ]
    },
    {
      "cell_type": "markdown",
      "metadata": {
        "id": "n4-6wxeZ8UmG"
      },
      "source": [
        "police complaint section"
      ]
    },
    {
      "cell_type": "code",
      "metadata": {
        "colab": {
          "base_uri": "https://localhost:8080/"
        },
        "id": "30w4lj1I4WBX",
        "outputId": "f56bab45-4375-464d-aa6f-17efc6799fe7"
      },
      "source": [
        "g_pol_complaint.vertices.show()"
      ],
      "execution_count": 57,
      "outputs": [
        {
          "output_type": "stream",
          "name": "stdout",
          "text": [
            "+---+-------+--------------------+-----------+------+--------------------+--------------------+--------------+----------------+----------------+-----------------------+-----------------+-------------------------+\n",
            "| id|   crid|is_officer_complaint|disciplined|gender|                race|                rank|current_salary|allegation_count|discipline_count|honorable_mention_count|major_award_count|civilian_compliment_count|\n",
            "+---+-------+--------------------+-----------+------+--------------------+--------------------+--------------+----------------+----------------+-----------------------+-----------------+-------------------------+\n",
            "| 16|1057173|                true|       true|     M|       Asian/Pacific|  Sergeant of Police|         84054|              19|               1|                     29|                0|                        5|\n",
            "| 17|1030834|                true|       true|     M|               Black|      Police Officer|         83706|              25|               1|                      2|                0|                        1|\n",
            "| 18| 281761|                true|       true|     M|       Asian/Pacific|      Police Officer|         90024|               5|               1|                     34|                0|                        3|\n",
            "| 29|1063487|                true|       true|     M|               Black|      Police Officer|         93240|               6|               3|                      5|                0|                        7|\n",
            "| 34| 285783|                true|       true|     M|               Black|      Police Officer|         90024|              15|               1|                     10|                0|                        1|\n",
            "| 38| 287075|                true|       true|     M|       Asian/Pacific|Police Officer as...|         97440|              13|               1|                     34|                0|                        1|\n",
            "| 47| 277024|                true|       true|     M|            Hispanic|      Police Officer|         90024|               7|               1|                     16|                0|                        2|\n",
            "| 50| 315571|                true|       true|     F|            Hispanic|      Police Officer|         90024|               2|               2|                      5|                0|                        4|\n",
            "| 59|1001321|                true|       true|     M|            Hispanic|      Police Officer|         70656|              14|               3|                      0|                0|                        0|\n",
            "| 75| 300320|                true|       true|     M|Native American/A...|      Police Officer|         78012|              27|               1|                     27|                0|                        3|\n",
            "| 80|1086280|                true|       true|     M|            Hispanic|      Police Officer|         84054|               9|               3|                     10|                0|                        4|\n",
            "| 89| 303624|                true|       true|     M|               White|      Police Officer|         65592|               7|               2|                      3|                0|                        0|\n",
            "| 90| 260708|                true|       true|     M|               Black|      Police Officer|         76476|              25|               3|                      0|                1|                        0|\n",
            "| 95| 303417|                true|       true|     M|               White|  Sergeant of Police|          null|              12|               1|                      0|                0|                        1|\n",
            "|108| 302106|                true|       true|     F|               Black|      Police Officer|         90024|               6|               2|                      5|                0|                        4|\n",
            "|114|1028521|                true|       true|     F|               Black|      Police Officer|         89718|              22|               3|                      5|                0|                        2|\n",
            "|117| 282909|                true|       true|     M|               Black|      Police Officer|         71682|              18|               5|                      3|                0|                        0|\n",
            "|128| 285422|                true|       true|     M|               White|      Police Officer|         93354|              32|               1|                     34|                1|                        5|\n",
            "|135|1068999|                true|       true|     M|               White|  Sergeant of Police|         91338|              11|               1|                     76|                1|                        2|\n",
            "|144|1003329|                true|       true|     F|            Hispanic|      Police Officer|         87006|               3|               1|                      7|                0|                        2|\n",
            "+---+-------+--------------------+-----------+------+--------------------+--------------------+--------------+----------------+----------------+-----------------------+-----------------+-------------------------+\n",
            "only showing top 20 rows\n",
            "\n"
          ]
        }
      ]
    },
    {
      "cell_type": "code",
      "metadata": {
        "colab": {
          "base_uri": "https://localhost:8080/"
        },
        "id": "UiBrBYu18gx7",
        "outputId": "f3233e83-0b45-49ca-b681-4a34a982a271"
      },
      "source": [
        "g_pol_complaint.edges.show()"
      ],
      "execution_count": 58,
      "outputs": [
        {
          "output_type": "stream",
          "name": "stdout",
          "text": [
            "+-----+-----+------------+\n",
            "|  src|  dst|relationship|\n",
            "+-----+-----+------------+\n",
            "|11090|17197|     1000004|\n",
            "|17197|11090|     1000004|\n",
            "| 8089| 9761|     1000183|\n",
            "| 8089|18206|     1000183|\n",
            "| 9761| 8089|     1000183|\n",
            "| 9761|18206|     1000183|\n",
            "|18206| 8089|     1000183|\n",
            "|18206| 9761|     1000183|\n",
            "|13256|15234|     1000441|\n",
            "|15234|13256|     1000441|\n",
            "|15126|28011|     1000442|\n",
            "|28011|15126|     1000442|\n",
            "|20769|20794|     1000579|\n",
            "|20794|20769|     1000579|\n",
            "| 3214|12081|     1000656|\n",
            "|12081| 3214|     1000656|\n",
            "|23334|28247|     1000776|\n",
            "|28247|23334|     1000776|\n",
            "| 1049|22266|     1000936|\n",
            "|22266| 1049|     1000936|\n",
            "+-----+-----+------------+\n",
            "only showing top 20 rows\n",
            "\n"
          ]
        }
      ]
    },
    {
      "cell_type": "code",
      "metadata": {
        "colab": {
          "base_uri": "https://localhost:8080/"
        },
        "id": "bbw1-LTK8yH1",
        "outputId": "9d0da236-def9-4961-e9b2-c5b228401182"
      },
      "source": [
        "g_pol_complaint.vertices.count()"
      ],
      "execution_count": 59,
      "outputs": [
        {
          "output_type": "execute_result",
          "data": {
            "text/plain": [
              "3905"
            ]
          },
          "metadata": {},
          "execution_count": 59
        }
      ]
    },
    {
      "cell_type": "code",
      "metadata": {
        "colab": {
          "base_uri": "https://localhost:8080/"
        },
        "id": "0mjCjqTF81Vl",
        "outputId": "6e94bb54-cf45-4df9-a2dd-d409f6c32f2a"
      },
      "source": [
        "g_pol_complaint.edges.count()"
      ],
      "execution_count": 60,
      "outputs": [
        {
          "output_type": "execute_result",
          "data": {
            "text/plain": [
              "8200"
            ]
          },
          "metadata": {},
          "execution_count": 60
        }
      ]
    },
    {
      "cell_type": "code",
      "metadata": {
        "colab": {
          "base_uri": "https://localhost:8080/"
        },
        "id": "_JHh8y4n84KJ",
        "outputId": "0fa7ddf0-3cd9-4b6f-d935-edf915e9798f"
      },
      "source": [
        "g_pol_complaint.degrees.sort(['Degree'],ascending=[0]).show()"
      ],
      "execution_count": 61,
      "outputs": [
        {
          "output_type": "stream",
          "name": "stdout",
          "text": [
            "+-----+------+\n",
            "|   id|degree|\n",
            "+-----+------+\n",
            "|  985|   136|\n",
            "|17287|   136|\n",
            "| 2085|   116|\n",
            "| 8658|   114|\n",
            "|31906|   112|\n",
            "|29842|   110|\n",
            "|16345|   110|\n",
            "|28411|   110|\n",
            "|16886|   110|\n",
            "|11184|   110|\n",
            "| 7261|   108|\n",
            "| 3027|   108|\n",
            "|13207|   108|\n",
            "|12961|   108|\n",
            "|23936|   108|\n",
            "|22172|   108|\n",
            "|19856|   106|\n",
            "|21890|   106|\n",
            "|16171|   106|\n",
            "| 2323|   106|\n",
            "+-----+------+\n",
            "only showing top 20 rows\n",
            "\n"
          ]
        }
      ]
    },
    {
      "cell_type": "code",
      "metadata": {
        "id": "nOffzI5w8_6X"
      },
      "source": [
        "communities_pol_complaint = g_pol_complaint.labelPropagation(100)"
      ],
      "execution_count": 62,
      "outputs": []
    },
    {
      "cell_type": "code",
      "metadata": {
        "colab": {
          "base_uri": "https://localhost:8080/"
        },
        "id": "vaJWRnK_9M0M",
        "outputId": "a0d9661a-f357-4b07-983b-2958375e8082"
      },
      "source": [
        "communities_pol_complaint.select(\"label\").distinct().count()"
      ],
      "execution_count": 63,
      "outputs": [
        {
          "output_type": "execute_result",
          "data": {
            "text/plain": [
              "3326"
            ]
          },
          "metadata": {},
          "execution_count": 63
        }
      ]
    },
    {
      "cell_type": "code",
      "metadata": {
        "colab": {
          "base_uri": "https://localhost:8080/"
        },
        "id": "I-Yj04k29XYP",
        "outputId": "65f12121-d389-43e7-dd7f-d029b79fdee4"
      },
      "source": [
        "communities_pol_complaint.groupby(\"label\").count().sort(\"count\", ascending=False).show(40)"
      ],
      "execution_count": 64,
      "outputs": [
        {
          "output_type": "stream",
          "name": "stdout",
          "text": [
            "+-----+-----+\n",
            "|label|count|\n",
            "+-----+-----+\n",
            "| 7261|   78|\n",
            "|32014|   46|\n",
            "|31918|   26|\n",
            "|  200|   18|\n",
            "|21197|   13|\n",
            "| 9001|   11|\n",
            "|19292|   10|\n",
            "|16762|    9|\n",
            "|15228|    9|\n",
            "|29403|    8|\n",
            "|24459|    8|\n",
            "|18906|    8|\n",
            "|24247|    7|\n",
            "| 9300|    7|\n",
            "|18989|    7|\n",
            "|29310|    7|\n",
            "|11573|    7|\n",
            "| 5577|    7|\n",
            "|20236|    6|\n",
            "|23126|    6|\n",
            "|26675|    6|\n",
            "|29869|    6|\n",
            "|27166|    6|\n",
            "|16681|    6|\n",
            "| 6369|    6|\n",
            "|22952|    6|\n",
            "|14895|    6|\n",
            "| 4599|    6|\n",
            "| 5412|    5|\n",
            "|32265|    5|\n",
            "|22161|    5|\n",
            "|23448|    5|\n",
            "| 9659|    5|\n",
            "|32307|    5|\n",
            "| 1474|    5|\n",
            "| 2325|    5|\n",
            "| 9207|    4|\n",
            "|13359|    4|\n",
            "|30336|    4|\n",
            "|17261|    4|\n",
            "+-----+-----+\n",
            "only showing top 40 rows\n",
            "\n"
          ]
        }
      ]
    },
    {
      "cell_type": "code",
      "metadata": {
        "colab": {
          "base_uri": "https://localhost:8080/"
        },
        "id": "wGbQHiS19hDZ",
        "outputId": "1a0df035-46a6-4c15-908c-b43fb2d3f8eb"
      },
      "source": [
        "communities_pol_complaint.filter(communities_pol_complaint[\"label\"] == 31918).show()"
      ],
      "execution_count": 65,
      "outputs": [
        {
          "output_type": "stream",
          "name": "stdout",
          "text": [
            "+-----+-------+--------------------+-----------+------+-------------+--------------------+--------------+----------------+----------------+-----------------------+-----------------+-------------------------+-----+\n",
            "|   id|   crid|is_officer_complaint|disciplined|gender|         race|                rank|current_salary|allegation_count|discipline_count|honorable_mention_count|major_award_count|civilian_compliment_count|label|\n",
            "+-----+-------+--------------------+-----------+------+-------------+--------------------+--------------+----------------+----------------+-----------------------+-----------------+-------------------------+-----+\n",
            "| 6865|1053605|                true|       true|     M|        White|      Police Officer|         88296|               7|               1|                     27|                0|                        2|31918|\n",
            "|16859|1053605|                true|       true|     M|     Hispanic|      Police Officer|         84054|               6|               1|                     42|                0|                        4|31918|\n",
            "|28257|1053605|                true|       true|     F|        Black|      Police Officer|         84054|              10|               2|                     54|                0|                        3|31918|\n",
            "| 7330|1053605|                true|       true|     F|        White|Police Officer as...|         84054|               5|               1|                     26|                0|                        2|31918|\n",
            "|24446|1053605|                true|       true|     M|     Hispanic|      Police Officer|         87006|               8|               1|                     19|                0|                        7|31918|\n",
            "| 5439|1058169|                true|       true|     M|     Hispanic|      Police Officer|         87006|              32|               3|                     64|                1|                        2|31918|\n",
            "|29063|1053605|                true|       true|     M|        White|      Police Officer|         87006|               8|               2|                     54|                0|                        5|31918|\n",
            "| 4447|1053605|                true|       true|     M|        White|  Sergeant of Police|        101442|              27|               1|                    117|                1|                        3|31918|\n",
            "|14790|1053605|                true|       true|     M|        White|      Police Officer|         87006|              14|               3|                     33|                0|                        2|31918|\n",
            "|16615|1053605|                true|       true|     M|        White|  Sergeant of Police|         87006|               6|               1|                     59|                1|                        2|31918|\n",
            "|20728|1053605|                true|       true|     M|Asian/Pacific|      Police Officer|         87006|               8|               1|                     80|                0|                        3|31918|\n",
            "|25678|1014602|                true|       true|     M|        White|      Police Officer|         87006|              13|               2|                     56|                1|                        5|31918|\n",
            "| 3497|1053605|                true|       true|     M|        Black|Lieutenant of Police|        107988|              16|               3|                     16|                0|                        6|31918|\n",
            "|20264|1053605|                true|       true|     M|     Hispanic|Police Officer / ...|         91338|               5|               1|                     35|                0|                        5|31918|\n",
            "|22283|1053605|                true|       true|     F|     Hispanic|      Police Officer|         84054|              12|               1|                     48|                0|                        5|31918|\n",
            "|21453|1053605|                true|       true|     M|     Hispanic|      Police Officer|         87006|               7|               1|                     35|                0|                        5|31918|\n",
            "| 3982|1053605|                true|       true|     M|     Hispanic|      Police Officer|         84054|               7|               1|                     46|                0|                        4|31918|\n",
            "|21362|1068295|                true|       true|     M|        White|      Police Officer|         87006|              26|               2|                    129|                1|                        5|31918|\n",
            "|30127|1053605|                true|       true|     M|        White|  Sergeant of Police|        101442|              12|               1|                     65|                0|                        3|31918|\n",
            "|31918|1053605|                true|       true|     M|Asian/Pacific|Police Officer as...|         87006|              12|               1|                    115|                0|                        3|31918|\n",
            "+-----+-------+--------------------+-----------+------+-------------+--------------------+--------------+----------------+----------------+-----------------------+-----------------+-------------------------+-----+\n",
            "only showing top 20 rows\n",
            "\n"
          ]
        }
      ]
    },
    {
      "cell_type": "code",
      "metadata": {
        "id": "JeN61kvQ-AGz"
      },
      "source": [
        "tc_pol_complaint = g_pol_complaint.triangleCount()"
      ],
      "execution_count": 66,
      "outputs": []
    },
    {
      "cell_type": "code",
      "metadata": {
        "colab": {
          "base_uri": "https://localhost:8080/"
        },
        "id": "PF0pff4V-R_a",
        "outputId": "1c14b72c-a855-458d-b01e-8662f1089760"
      },
      "source": [
        "tc_pol_complaint.sort(\"count\", ascending=False).show(40)"
      ],
      "execution_count": 67,
      "outputs": [
        {
          "output_type": "stream",
          "name": "stdout",
          "text": [
            "+-----+-----+-------+--------------------+-----------+------+--------+--------------------+--------------+----------------+----------------+-----------------------+-----------------+-------------------------+\n",
            "|count|   id|   crid|is_officer_complaint|disciplined|gender|    race|                rank|current_salary|allegation_count|discipline_count|honorable_mention_count|major_award_count|civilian_compliment_count|\n",
            "+-----+-----+-------+--------------------+-----------+------+--------+--------------------+--------------+----------------+----------------+-----------------------+-----------------+-------------------------+\n",
            "| 1483|  985| 276049|                true|       true|     M|Hispanic|      Police Officer|         83706|              54|              14|                     30|                0|                        0|\n",
            "| 1483|17287| 277861|                true|       true|     M|   Black|      Police Officer|         86130|              13|               2|                      0|                1|                        1|\n",
            "| 1384| 8658| 291914|                true|       true|     M|   Black|      Police Officer|         63396|              95|               6|                      9|                1|                        3|\n",
            "| 1384| 2085| 276049|                true|       true|     M|   Black|      Police Officer|         70704|              31|               3|                      4|                0|                        4|\n",
            "| 1379|11184| 276049|                true|       true|     F|   Black|      Police Officer|         93354|              15|               4|                     12|                1|                        1|\n",
            "| 1379|16345| 276049|                true|       true|     M|   Black|      Police Officer|         82878|              27|               8|                      6|                0|                        1|\n",
            "| 1379|31906| 276049|                true|       true|     M|   Black|      Police Officer|         96060|              76|              11|                     35|                0|                        1|\n",
            "| 1379|28411| 276049|                true|       true|     M|   Black|  Sergeant of Police|        102978|              25|               5|                      1|                1|                        1|\n",
            "| 1379|29842| 276049|                true|       true|     M|   Black|Police Officer / ...|         93354|              56|              10|                      3|                0|                        0|\n",
            "| 1379|16886| 277648|                true|       true|     M|   Black|      Police Officer|         93354|              23|               4|                      0|                0|                        6|\n",
            "| 1378|18392|1007438|                true|       true|     F|   Black|Police Officer As...|         95178|              10|               2|                      6|                0|                        1|\n",
            "| 1378|13207| 271398|                true|       true|     M|   Black|      Police Officer|         89718|              19|               7|                      3|                1|                        1|\n",
            "| 1378|  974| 276049|                true|       true|     M|   Black|      Police Officer|          null|               6|               5|                      9|                1|                        3|\n",
            "| 1378| 2323| 276049|                true|       true|     M|   Black|      Police Officer|         86130|              33|               1|                      3|                0|                        6|\n",
            "| 1378|10352|1070363|                true|       true|     M|Hispanic|      Police Officer|         86520|              34|               4|                      2|                0|                       11|\n",
            "| 1378|12961| 291468|                true|       true|     M|   Black|Police Officer as...|        103932|              61|               9|                      9|                0|                        3|\n",
            "| 1378|26167| 269020|                true|       true|     F|   Black|      Police Officer|         93354|              28|               7|                      8|                0|                        2|\n",
            "| 1378|16171| 285051|                true|       true|     M|   Black|      Police Officer|         63396|              29|               9|                      1|                0|                        0|\n",
            "| 1378|26497| 276049|                true|       true|     M|   Black|      Police Officer|         93240|              14|               3|                      5|                0|                        1|\n",
            "| 1378| 7261|1049448|                true|       true|     M|   White|Lieutenant of Police|        119076|              29|               2|                      9|                0|                        3|\n",
            "| 1378| 9353| 276049|                true|       true|     M|   Black|  Sergeant of Police|         90024|               6|               1|                     11|                0|                        3|\n",
            "| 1378|15668| 276049|                true|       true|     M|   Black|      Police Officer|         90024|              12|               1|                     14|                0|                       11|\n",
            "| 1378| 6155| 276049|                true|       true|     M|   Black|      Police Officer|         83706|              21|               1|                      9|                0|                        1|\n",
            "| 1378|19052|1063474|                true|       true|     M|   Black|      Police Officer|         90024|              10|               2|                      4|                0|                        3|\n",
            "| 1378|19934| 276049|                true|       true|     M|Hispanic|      Police Officer|         93354|              61|               2|                     39|                0|                        2|\n",
            "| 1378|23936|1003872|                true|       true|     M|   Black|      Police Officer|         81252|              18|               5|                      0|                0|                        0|\n",
            "| 1378|14646|1028094|                true|       true|     M|   White|Police Officer As...|         87888|              11|               4|                     12|                0|                        1|\n",
            "| 1378| 8602| 263829|                true|       true|     F|   Black|      Police Officer|          null|              13|               5|                      9|                1|                        3|\n",
            "| 1378|21890| 261229|                true|       true|     M|   Black|      Police Officer|         66924|              18|               8|                      3|                0|                        0|\n",
            "| 1378| 9620|1061782|                true|       true|     M|   Black|  Sergeant of Police|        111474|              31|               4|                      8|                0|                        2|\n",
            "| 1378| 8992| 276049|                true|       true|     M|   Black|      Police Officer|         95106|              24|               4|                     13|                0|                        2|\n",
            "| 1378| 3027|1006950|                true|       true|     M|   Black|      Police Officer|         92430|              16|               2|                      9|                0|                        1|\n",
            "| 1378|11413| 276961|                true|       true|     M|   Black|      Police Officer|         93354|              32|               9|                     28|                0|                       15|\n",
            "| 1378|20286| 276049|                true|       true|     M|   Black|      Police Officer|         93354|              17|               3|                      9|                0|                        6|\n",
            "| 1378| 4249| 286963|                true|       true|     M|Hispanic|      Police Officer|         58572|               8|               3|                      1|                0|                        0|\n",
            "| 1378|19856| 276049|                true|       true|     M|   Black|      Police Officer|         78006|              11|               2|                      1|                0|                        0|\n",
            "| 1378|20078| 289313|                true|       true|     M|   Black|      Police Officer|         69264|              18|               5|                      0|                0|                        4|\n",
            "| 1378|10902| 276049|                true|       true|     M|   White|      Police Officer|         78360|              31|               1|                     17|                1|                        4|\n",
            "| 1378|19684| 276049|                true|       true|     M|   Black|      Police Officer|         90024|              19|               3|                     33|                0|                        2|\n",
            "| 1378|16167| 276049|                true|       true|     M|   Black|      Police Officer|         83706|              16|               2|                      4|                0|                        0|\n",
            "+-----+-----+-------+--------------------+-----------+------+--------+--------------------+--------------+----------------+----------------+-----------------------+-----------------+-------------------------+\n",
            "only showing top 40 rows\n",
            "\n"
          ]
        }
      ]
    },
    {
      "cell_type": "code",
      "metadata": {
        "id": "u5uabNlO-YEl"
      },
      "source": [
        "scc_pol_complaint = g_pol_complaint.stronglyConnectedComponents(100)"
      ],
      "execution_count": 68,
      "outputs": []
    },
    {
      "cell_type": "code",
      "metadata": {
        "colab": {
          "base_uri": "https://localhost:8080/"
        },
        "id": "EFCCtExO-l8O",
        "outputId": "a15072b5-6ad4-4e03-9925-a68856d70a23"
      },
      "source": [
        "scc_pol_complaint.select(\"component\").distinct().count()"
      ],
      "execution_count": 70,
      "outputs": [
        {
          "output_type": "execute_result",
          "data": {
            "text/plain": [
              "2879"
            ]
          },
          "metadata": {},
          "execution_count": 70
        }
      ]
    },
    {
      "cell_type": "code",
      "metadata": {
        "colab": {
          "base_uri": "https://localhost:8080/"
        },
        "id": "k5Zqh0YJ-0aS",
        "outputId": "22f8d4bb-1897-4a45-d526-0277f0a2c86b"
      },
      "source": [
        "scc_pol_complaint_group_by = scc_pol_complaint.groupby(\"component\").count().sort(\"count\", ascending=False)\n",
        "scc_pol_complaint_group_by.show(20)"
      ],
      "execution_count": 71,
      "outputs": [
        {
          "output_type": "stream",
          "name": "stdout",
          "text": [
            "+---------+-----+\n",
            "|component|count|\n",
            "+---------+-----+\n",
            "|      200|  127|\n",
            "|      560|   46|\n",
            "|     1900|   26|\n",
            "|     4045|   12|\n",
            "|     3429|   11|\n",
            "|      327|    9|\n",
            "|     3940|    9|\n",
            "|     9152|    8|\n",
            "|      249|    8|\n",
            "|     2576|    8|\n",
            "|     9910|    8|\n",
            "|     5043|    8|\n",
            "|     6864|    8|\n",
            "|     3067|    7|\n",
            "|     1576|    7|\n",
            "|    12247|    7|\n",
            "|     1435|    7|\n",
            "|     1892|    7|\n",
            "|      908|    7|\n",
            "|     3626|    7|\n",
            "+---------+-----+\n",
            "only showing top 20 rows\n",
            "\n"
          ]
        }
      ]
    },
    {
      "cell_type": "code",
      "metadata": {
        "colab": {
          "base_uri": "https://localhost:8080/"
        },
        "id": "4ZEOMbAe_F4l",
        "outputId": "2765bfd6-0590-4dcb-cb4d-d126234c5d52"
      },
      "source": [
        "scc_pol_complaint.filter(scc_pol_complaint[\"component\"] == 1900).show()"
      ],
      "execution_count": 72,
      "outputs": [
        {
          "output_type": "stream",
          "name": "stdout",
          "text": [
            "+-----+-------+--------------------+-----------+------+-------------+--------------------+--------------+----------------+----------------+-----------------------+-----------------+-------------------------+---------+\n",
            "|   id|   crid|is_officer_complaint|disciplined|gender|         race|                rank|current_salary|allegation_count|discipline_count|honorable_mention_count|major_award_count|civilian_compliment_count|component|\n",
            "+-----+-------+--------------------+-----------+------+-------------+--------------------+--------------+----------------+----------------+-----------------------+-----------------+-------------------------+---------+\n",
            "| 6865|1053605|                true|       true|     M|        White|      Police Officer|         88296|               7|               1|                     27|                0|                        2|     1900|\n",
            "|16859|1053605|                true|       true|     M|     Hispanic|      Police Officer|         84054|               6|               1|                     42|                0|                        4|     1900|\n",
            "|28257|1053605|                true|       true|     F|        Black|      Police Officer|         84054|              10|               2|                     54|                0|                        3|     1900|\n",
            "| 7330|1053605|                true|       true|     F|        White|Police Officer as...|         84054|               5|               1|                     26|                0|                        2|     1900|\n",
            "|24446|1053605|                true|       true|     M|     Hispanic|      Police Officer|         87006|               8|               1|                     19|                0|                        7|     1900|\n",
            "| 5439|1058169|                true|       true|     M|     Hispanic|      Police Officer|         87006|              32|               3|                     64|                1|                        2|     1900|\n",
            "|29063|1053605|                true|       true|     M|        White|      Police Officer|         87006|               8|               2|                     54|                0|                        5|     1900|\n",
            "| 4447|1053605|                true|       true|     M|        White|  Sergeant of Police|        101442|              27|               1|                    117|                1|                        3|     1900|\n",
            "|14790|1053605|                true|       true|     M|        White|      Police Officer|         87006|              14|               3|                     33|                0|                        2|     1900|\n",
            "|16615|1053605|                true|       true|     M|        White|  Sergeant of Police|         87006|               6|               1|                     59|                1|                        2|     1900|\n",
            "|20728|1053605|                true|       true|     M|Asian/Pacific|      Police Officer|         87006|               8|               1|                     80|                0|                        3|     1900|\n",
            "|25678|1014602|                true|       true|     M|        White|      Police Officer|         87006|              13|               2|                     56|                1|                        5|     1900|\n",
            "| 3497|1053605|                true|       true|     M|        Black|Lieutenant of Police|        107988|              16|               3|                     16|                0|                        6|     1900|\n",
            "|20264|1053605|                true|       true|     M|     Hispanic|Police Officer / ...|         91338|               5|               1|                     35|                0|                        5|     1900|\n",
            "|22283|1053605|                true|       true|     F|     Hispanic|      Police Officer|         84054|              12|               1|                     48|                0|                        5|     1900|\n",
            "|21453|1053605|                true|       true|     M|     Hispanic|      Police Officer|         87006|               7|               1|                     35|                0|                        5|     1900|\n",
            "| 3982|1053605|                true|       true|     M|     Hispanic|      Police Officer|         84054|               7|               1|                     46|                0|                        4|     1900|\n",
            "|21362|1068295|                true|       true|     M|        White|      Police Officer|         87006|              26|               2|                    129|                1|                        5|     1900|\n",
            "|30127|1053605|                true|       true|     M|        White|  Sergeant of Police|        101442|              12|               1|                     65|                0|                        3|     1900|\n",
            "|31918|1053605|                true|       true|     M|Asian/Pacific|Police Officer as...|         87006|              12|               1|                    115|                0|                        3|     1900|\n",
            "+-----+-------+--------------------+-----------+------+-------------+--------------------+--------------+----------------+----------------+-----------------------+-----------------+-------------------------+---------+\n",
            "only showing top 20 rows\n",
            "\n"
          ]
        }
      ]
    },
    {
      "cell_type": "code",
      "metadata": {
        "id": "VwtS_Vx7_Wj3"
      },
      "source": [
        ""
      ],
      "execution_count": null,
      "outputs": []
    }
  ]
}